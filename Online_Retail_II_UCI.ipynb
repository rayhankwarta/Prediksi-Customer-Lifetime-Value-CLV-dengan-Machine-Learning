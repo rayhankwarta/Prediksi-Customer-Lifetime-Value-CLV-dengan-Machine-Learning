{
  "nbformat": 4,
  "nbformat_minor": 0,
  "metadata": {
    "colab": {
      "provenance": [],
      "toc_visible": true,
      "authorship_tag": "ABX9TyNXOQlKK/TXHX/jbVpf/KsX",
      "include_colab_link": true
    },
    "kernelspec": {
      "name": "python3",
      "display_name": "Python 3"
    },
    "language_info": {
      "name": "python"
    }
  },
  "cells": [
    {
      "cell_type": "markdown",
      "metadata": {
        "id": "view-in-github",
        "colab_type": "text"
      },
      "source": [
        "<a href=\"https://colab.research.google.com/github/rayhankwarta/Prediksi-Customer-Lifetime-Value-CLV-dengan-Machine-Learning/blob/main/Online_Retail_II_UCI.ipynb\" target=\"_parent\"><img src=\"https://colab.research.google.com/assets/colab-badge.svg\" alt=\"Open In Colab\"/></a>"
      ]
    },
    {
      "cell_type": "code",
      "execution_count": 6,
      "metadata": {
        "colab": {
          "base_uri": "https://localhost:8080/"
        },
        "id": "cNHRu19EKT-J",
        "outputId": "073b0ca1-43b2-431c-d94c-4c1d4838a4c0"
      },
      "outputs": [
        {
          "output_type": "stream",
          "name": "stderr",
          "text": [
            "/tmp/ipython-input-1280257036.py:10: DeprecationWarning: load_dataset is deprecated and will be removed in a future version.\n",
            "  df = kagglehub.load_dataset(\n"
          ]
        },
        {
          "output_type": "stream",
          "name": "stdout",
          "text": [
            "First 5 records:   Invoice StockCode                          Description  Quantity  \\\n",
            "0  489434     85048  15CM CHRISTMAS GLASS BALL 20 LIGHTS        12   \n",
            "1  489434    79323P                   PINK CHERRY LIGHTS        12   \n",
            "2  489434    79323W                  WHITE CHERRY LIGHTS        12   \n",
            "3  489434     22041         RECORD FRAME 7\" SINGLE SIZE         48   \n",
            "4  489434     21232       STRAWBERRY CERAMIC TRINKET BOX        24   \n",
            "\n",
            "           InvoiceDate  Price  Customer ID         Country  \n",
            "0  2009-12-01 07:45:00   6.95      13085.0  United Kingdom  \n",
            "1  2009-12-01 07:45:00   6.75      13085.0  United Kingdom  \n",
            "2  2009-12-01 07:45:00   6.75      13085.0  United Kingdom  \n",
            "3  2009-12-01 07:45:00   2.10      13085.0  United Kingdom  \n",
            "4  2009-12-01 07:45:00   1.25      13085.0  United Kingdom  \n"
          ]
        }
      ],
      "source": [
        "# Install dependencies as needed:\n",
        "# pip install kagglehub[pandas-datasets]\n",
        "import kagglehub\n",
        "from kagglehub import KaggleDatasetAdapter\n",
        "\n",
        "# Set the path to the file you'd like to load\n",
        "file_path = \"online_retail_II.csv\"\n",
        "\n",
        "# Load the latest version\n",
        "df = kagglehub.load_dataset(\n",
        "  KaggleDatasetAdapter.PANDAS,\n",
        "  \"mashlyn/online-retail-ii-uci\",\n",
        "  file_path,\n",
        "  # Provide any additional arguments like\n",
        "  # sql_query or pandas_kwargs. See the\n",
        "  # documenation for more information:\n",
        "  # https://github.com/Kaggle/kagglehub/blob/main/README.md#kaggledatasetadapterpandas\n",
        ")\n",
        "\n",
        "print(\"First 5 records:\", df.head())"
      ]
    },
    {
      "cell_type": "markdown",
      "source": [
        "# EDA Data Cleaning"
      ],
      "metadata": {
        "id": "iNpeI2mLMxAg"
      }
    },
    {
      "cell_type": "code",
      "source": [
        "# Import library yang dibutuhkan\n",
        "import pandas as pd\n",
        "import numpy as np\n",
        "import matplotlib.pyplot as plt\n",
        "import seaborn as sns\n",
        "import datetime as dt\n",
        "\n",
        "# Matplotlib dan Seaborn untuk visualisasi\n",
        "sns.set(style='whitegrid')\n",
        "plt.style.use('seaborn-v0_8-whitegrid')\n",
        "\n",
        "# Scikit-learn untuk modeling\n",
        "from sklearn.model_selection import train_test_split\n",
        "from sklearn.ensemble import RandomForestRegressor\n",
        "from sklearn.metrics import mean_absolute_error, r2_score\n"
      ],
      "metadata": {
        "id": "rfaK37MWMCyS"
      },
      "execution_count": 7,
      "outputs": []
    },
    {
      "cell_type": "code",
      "source": [
        "df.info()"
      ],
      "metadata": {
        "colab": {
          "base_uri": "https://localhost:8080/"
        },
        "id": "MCYe8THXMIwL",
        "outputId": "e04cc8dd-f6c9-4669-f5ff-ee030d6ce928"
      },
      "execution_count": 8,
      "outputs": [
        {
          "output_type": "stream",
          "name": "stdout",
          "text": [
            "<class 'pandas.core.frame.DataFrame'>\n",
            "RangeIndex: 1067371 entries, 0 to 1067370\n",
            "Data columns (total 8 columns):\n",
            " #   Column       Non-Null Count    Dtype  \n",
            "---  ------       --------------    -----  \n",
            " 0   Invoice      1067371 non-null  object \n",
            " 1   StockCode    1067371 non-null  object \n",
            " 2   Description  1062989 non-null  object \n",
            " 3   Quantity     1067371 non-null  int64  \n",
            " 4   InvoiceDate  1067371 non-null  object \n",
            " 5   Price        1067371 non-null  float64\n",
            " 6   Customer ID  824364 non-null   float64\n",
            " 7   Country      1067371 non-null  object \n",
            "dtypes: float64(2), int64(1), object(5)\n",
            "memory usage: 65.1+ MB\n"
          ]
        }
      ]
    },
    {
      "cell_type": "code",
      "source": [
        "df.describe()"
      ],
      "metadata": {
        "colab": {
          "base_uri": "https://localhost:8080/",
          "height": 301
        },
        "id": "G89NqYFQMKs7",
        "outputId": "fb88f666-d3ec-4298-b433-65395e42598c"
      },
      "execution_count": 9,
      "outputs": [
        {
          "output_type": "execute_result",
          "data": {
            "text/plain": [
              "           Quantity         Price    Customer ID\n",
              "count  1.067371e+06  1.067371e+06  824364.000000\n",
              "mean   9.938898e+00  4.649388e+00   15324.638504\n",
              "std    1.727058e+02  1.235531e+02    1697.464450\n",
              "min   -8.099500e+04 -5.359436e+04   12346.000000\n",
              "25%    1.000000e+00  1.250000e+00   13975.000000\n",
              "50%    3.000000e+00  2.100000e+00   15255.000000\n",
              "75%    1.000000e+01  4.150000e+00   16797.000000\n",
              "max    8.099500e+04  3.897000e+04   18287.000000"
            ],
            "text/html": [
              "\n",
              "  <div id=\"df-b2690d63-29b9-4684-a0a3-0e4371a299c1\" class=\"colab-df-container\">\n",
              "    <div>\n",
              "<style scoped>\n",
              "    .dataframe tbody tr th:only-of-type {\n",
              "        vertical-align: middle;\n",
              "    }\n",
              "\n",
              "    .dataframe tbody tr th {\n",
              "        vertical-align: top;\n",
              "    }\n",
              "\n",
              "    .dataframe thead th {\n",
              "        text-align: right;\n",
              "    }\n",
              "</style>\n",
              "<table border=\"1\" class=\"dataframe\">\n",
              "  <thead>\n",
              "    <tr style=\"text-align: right;\">\n",
              "      <th></th>\n",
              "      <th>Quantity</th>\n",
              "      <th>Price</th>\n",
              "      <th>Customer ID</th>\n",
              "    </tr>\n",
              "  </thead>\n",
              "  <tbody>\n",
              "    <tr>\n",
              "      <th>count</th>\n",
              "      <td>1.067371e+06</td>\n",
              "      <td>1.067371e+06</td>\n",
              "      <td>824364.000000</td>\n",
              "    </tr>\n",
              "    <tr>\n",
              "      <th>mean</th>\n",
              "      <td>9.938898e+00</td>\n",
              "      <td>4.649388e+00</td>\n",
              "      <td>15324.638504</td>\n",
              "    </tr>\n",
              "    <tr>\n",
              "      <th>std</th>\n",
              "      <td>1.727058e+02</td>\n",
              "      <td>1.235531e+02</td>\n",
              "      <td>1697.464450</td>\n",
              "    </tr>\n",
              "    <tr>\n",
              "      <th>min</th>\n",
              "      <td>-8.099500e+04</td>\n",
              "      <td>-5.359436e+04</td>\n",
              "      <td>12346.000000</td>\n",
              "    </tr>\n",
              "    <tr>\n",
              "      <th>25%</th>\n",
              "      <td>1.000000e+00</td>\n",
              "      <td>1.250000e+00</td>\n",
              "      <td>13975.000000</td>\n",
              "    </tr>\n",
              "    <tr>\n",
              "      <th>50%</th>\n",
              "      <td>3.000000e+00</td>\n",
              "      <td>2.100000e+00</td>\n",
              "      <td>15255.000000</td>\n",
              "    </tr>\n",
              "    <tr>\n",
              "      <th>75%</th>\n",
              "      <td>1.000000e+01</td>\n",
              "      <td>4.150000e+00</td>\n",
              "      <td>16797.000000</td>\n",
              "    </tr>\n",
              "    <tr>\n",
              "      <th>max</th>\n",
              "      <td>8.099500e+04</td>\n",
              "      <td>3.897000e+04</td>\n",
              "      <td>18287.000000</td>\n",
              "    </tr>\n",
              "  </tbody>\n",
              "</table>\n",
              "</div>\n",
              "    <div class=\"colab-df-buttons\">\n",
              "\n",
              "  <div class=\"colab-df-container\">\n",
              "    <button class=\"colab-df-convert\" onclick=\"convertToInteractive('df-b2690d63-29b9-4684-a0a3-0e4371a299c1')\"\n",
              "            title=\"Convert this dataframe to an interactive table.\"\n",
              "            style=\"display:none;\">\n",
              "\n",
              "  <svg xmlns=\"http://www.w3.org/2000/svg\" height=\"24px\" viewBox=\"0 -960 960 960\">\n",
              "    <path d=\"M120-120v-720h720v720H120Zm60-500h600v-160H180v160Zm220 220h160v-160H400v160Zm0 220h160v-160H400v160ZM180-400h160v-160H180v160Zm440 0h160v-160H620v160ZM180-180h160v-160H180v160Zm440 0h160v-160H620v160Z\"/>\n",
              "  </svg>\n",
              "    </button>\n",
              "\n",
              "  <style>\n",
              "    .colab-df-container {\n",
              "      display:flex;\n",
              "      gap: 12px;\n",
              "    }\n",
              "\n",
              "    .colab-df-convert {\n",
              "      background-color: #E8F0FE;\n",
              "      border: none;\n",
              "      border-radius: 50%;\n",
              "      cursor: pointer;\n",
              "      display: none;\n",
              "      fill: #1967D2;\n",
              "      height: 32px;\n",
              "      padding: 0 0 0 0;\n",
              "      width: 32px;\n",
              "    }\n",
              "\n",
              "    .colab-df-convert:hover {\n",
              "      background-color: #E2EBFA;\n",
              "      box-shadow: 0px 1px 2px rgba(60, 64, 67, 0.3), 0px 1px 3px 1px rgba(60, 64, 67, 0.15);\n",
              "      fill: #174EA6;\n",
              "    }\n",
              "\n",
              "    .colab-df-buttons div {\n",
              "      margin-bottom: 4px;\n",
              "    }\n",
              "\n",
              "    [theme=dark] .colab-df-convert {\n",
              "      background-color: #3B4455;\n",
              "      fill: #D2E3FC;\n",
              "    }\n",
              "\n",
              "    [theme=dark] .colab-df-convert:hover {\n",
              "      background-color: #434B5C;\n",
              "      box-shadow: 0px 1px 3px 1px rgba(0, 0, 0, 0.15);\n",
              "      filter: drop-shadow(0px 1px 2px rgba(0, 0, 0, 0.3));\n",
              "      fill: #FFFFFF;\n",
              "    }\n",
              "  </style>\n",
              "\n",
              "    <script>\n",
              "      const buttonEl =\n",
              "        document.querySelector('#df-b2690d63-29b9-4684-a0a3-0e4371a299c1 button.colab-df-convert');\n",
              "      buttonEl.style.display =\n",
              "        google.colab.kernel.accessAllowed ? 'block' : 'none';\n",
              "\n",
              "      async function convertToInteractive(key) {\n",
              "        const element = document.querySelector('#df-b2690d63-29b9-4684-a0a3-0e4371a299c1');\n",
              "        const dataTable =\n",
              "          await google.colab.kernel.invokeFunction('convertToInteractive',\n",
              "                                                    [key], {});\n",
              "        if (!dataTable) return;\n",
              "\n",
              "        const docLinkHtml = 'Like what you see? Visit the ' +\n",
              "          '<a target=\"_blank\" href=https://colab.research.google.com/notebooks/data_table.ipynb>data table notebook</a>'\n",
              "          + ' to learn more about interactive tables.';\n",
              "        element.innerHTML = '';\n",
              "        dataTable['output_type'] = 'display_data';\n",
              "        await google.colab.output.renderOutput(dataTable, element);\n",
              "        const docLink = document.createElement('div');\n",
              "        docLink.innerHTML = docLinkHtml;\n",
              "        element.appendChild(docLink);\n",
              "      }\n",
              "    </script>\n",
              "  </div>\n",
              "\n",
              "\n",
              "    <div id=\"df-8da9e062-8c43-42b3-8c41-06fc63c95553\">\n",
              "      <button class=\"colab-df-quickchart\" onclick=\"quickchart('df-8da9e062-8c43-42b3-8c41-06fc63c95553')\"\n",
              "                title=\"Suggest charts\"\n",
              "                style=\"display:none;\">\n",
              "\n",
              "<svg xmlns=\"http://www.w3.org/2000/svg\" height=\"24px\"viewBox=\"0 0 24 24\"\n",
              "     width=\"24px\">\n",
              "    <g>\n",
              "        <path d=\"M19 3H5c-1.1 0-2 .9-2 2v14c0 1.1.9 2 2 2h14c1.1 0 2-.9 2-2V5c0-1.1-.9-2-2-2zM9 17H7v-7h2v7zm4 0h-2V7h2v10zm4 0h-2v-4h2v4z\"/>\n",
              "    </g>\n",
              "</svg>\n",
              "      </button>\n",
              "\n",
              "<style>\n",
              "  .colab-df-quickchart {\n",
              "      --bg-color: #E8F0FE;\n",
              "      --fill-color: #1967D2;\n",
              "      --hover-bg-color: #E2EBFA;\n",
              "      --hover-fill-color: #174EA6;\n",
              "      --disabled-fill-color: #AAA;\n",
              "      --disabled-bg-color: #DDD;\n",
              "  }\n",
              "\n",
              "  [theme=dark] .colab-df-quickchart {\n",
              "      --bg-color: #3B4455;\n",
              "      --fill-color: #D2E3FC;\n",
              "      --hover-bg-color: #434B5C;\n",
              "      --hover-fill-color: #FFFFFF;\n",
              "      --disabled-bg-color: #3B4455;\n",
              "      --disabled-fill-color: #666;\n",
              "  }\n",
              "\n",
              "  .colab-df-quickchart {\n",
              "    background-color: var(--bg-color);\n",
              "    border: none;\n",
              "    border-radius: 50%;\n",
              "    cursor: pointer;\n",
              "    display: none;\n",
              "    fill: var(--fill-color);\n",
              "    height: 32px;\n",
              "    padding: 0;\n",
              "    width: 32px;\n",
              "  }\n",
              "\n",
              "  .colab-df-quickchart:hover {\n",
              "    background-color: var(--hover-bg-color);\n",
              "    box-shadow: 0 1px 2px rgba(60, 64, 67, 0.3), 0 1px 3px 1px rgba(60, 64, 67, 0.15);\n",
              "    fill: var(--button-hover-fill-color);\n",
              "  }\n",
              "\n",
              "  .colab-df-quickchart-complete:disabled,\n",
              "  .colab-df-quickchart-complete:disabled:hover {\n",
              "    background-color: var(--disabled-bg-color);\n",
              "    fill: var(--disabled-fill-color);\n",
              "    box-shadow: none;\n",
              "  }\n",
              "\n",
              "  .colab-df-spinner {\n",
              "    border: 2px solid var(--fill-color);\n",
              "    border-color: transparent;\n",
              "    border-bottom-color: var(--fill-color);\n",
              "    animation:\n",
              "      spin 1s steps(1) infinite;\n",
              "  }\n",
              "\n",
              "  @keyframes spin {\n",
              "    0% {\n",
              "      border-color: transparent;\n",
              "      border-bottom-color: var(--fill-color);\n",
              "      border-left-color: var(--fill-color);\n",
              "    }\n",
              "    20% {\n",
              "      border-color: transparent;\n",
              "      border-left-color: var(--fill-color);\n",
              "      border-top-color: var(--fill-color);\n",
              "    }\n",
              "    30% {\n",
              "      border-color: transparent;\n",
              "      border-left-color: var(--fill-color);\n",
              "      border-top-color: var(--fill-color);\n",
              "      border-right-color: var(--fill-color);\n",
              "    }\n",
              "    40% {\n",
              "      border-color: transparent;\n",
              "      border-right-color: var(--fill-color);\n",
              "      border-top-color: var(--fill-color);\n",
              "    }\n",
              "    60% {\n",
              "      border-color: transparent;\n",
              "      border-right-color: var(--fill-color);\n",
              "    }\n",
              "    80% {\n",
              "      border-color: transparent;\n",
              "      border-right-color: var(--fill-color);\n",
              "      border-bottom-color: var(--fill-color);\n",
              "    }\n",
              "    90% {\n",
              "      border-color: transparent;\n",
              "      border-bottom-color: var(--fill-color);\n",
              "    }\n",
              "  }\n",
              "</style>\n",
              "\n",
              "      <script>\n",
              "        async function quickchart(key) {\n",
              "          const quickchartButtonEl =\n",
              "            document.querySelector('#' + key + ' button');\n",
              "          quickchartButtonEl.disabled = true;  // To prevent multiple clicks.\n",
              "          quickchartButtonEl.classList.add('colab-df-spinner');\n",
              "          try {\n",
              "            const charts = await google.colab.kernel.invokeFunction(\n",
              "                'suggestCharts', [key], {});\n",
              "          } catch (error) {\n",
              "            console.error('Error during call to suggestCharts:', error);\n",
              "          }\n",
              "          quickchartButtonEl.classList.remove('colab-df-spinner');\n",
              "          quickchartButtonEl.classList.add('colab-df-quickchart-complete');\n",
              "        }\n",
              "        (() => {\n",
              "          let quickchartButtonEl =\n",
              "            document.querySelector('#df-8da9e062-8c43-42b3-8c41-06fc63c95553 button');\n",
              "          quickchartButtonEl.style.display =\n",
              "            google.colab.kernel.accessAllowed ? 'block' : 'none';\n",
              "        })();\n",
              "      </script>\n",
              "    </div>\n",
              "\n",
              "    </div>\n",
              "  </div>\n"
            ],
            "application/vnd.google.colaboratory.intrinsic+json": {
              "type": "dataframe",
              "summary": "{\n  \"name\": \"df\",\n  \"rows\": 8,\n  \"fields\": [\n    {\n      \"column\": \"Quantity\",\n      \"properties\": {\n        \"dtype\": \"number\",\n        \"std\": 379838.0627184195,\n        \"min\": -80995.0,\n        \"max\": 1067371.0,\n        \"num_unique_values\": 8,\n        \"samples\": [\n          9.9388984711033,\n          3.0,\n          1067371.0\n        ],\n        \"semantic_type\": \"\",\n        \"description\": \"\"\n      }\n    },\n    {\n      \"column\": \"Price\",\n      \"properties\": {\n        \"dtype\": \"number\",\n        \"std\": 378927.38277095853,\n        \"min\": -53594.36,\n        \"max\": 1067371.0,\n        \"num_unique_values\": 8,\n        \"samples\": [\n          4.649387727416239,\n          2.1,\n          1067371.0\n        ],\n        \"semantic_type\": \"\",\n        \"description\": \"\"\n      }\n    },\n    {\n      \"column\": \"Customer ID\",\n      \"properties\": {\n        \"dtype\": \"number\",\n        \"std\": 286770.10266489815,\n        \"min\": 1697.464450379087,\n        \"max\": 824364.0,\n        \"num_unique_values\": 8,\n        \"samples\": [\n          15324.63850435002,\n          15255.0,\n          824364.0\n        ],\n        \"semantic_type\": \"\",\n        \"description\": \"\"\n      }\n    }\n  ]\n}"
            }
          },
          "metadata": {},
          "execution_count": 9
        }
      ]
    },
    {
      "cell_type": "code",
      "source": [
        "#Menghapus baris dengan CustomerID yang kosong\n",
        "df.dropna(subset=['Customer ID'], inplace=True)"
      ],
      "metadata": {
        "id": "Wi-JgPgjMNdW"
      },
      "execution_count": 10,
      "outputs": []
    },
    {
      "cell_type": "code",
      "source": [
        "#Menghapus transaksi retur (Quantity < 0)\n",
        "df = df[df['Quantity'] > 0]"
      ],
      "metadata": {
        "id": "25L2RL5LMX-J"
      },
      "execution_count": 11,
      "outputs": []
    },
    {
      "cell_type": "code",
      "source": [
        "#Menghapus data dengan harga nol\n",
        "df = df[df['Price'] > 0]"
      ],
      "metadata": {
        "id": "XTwJSgbRMdOt"
      },
      "execution_count": 13,
      "outputs": []
    },
    {
      "cell_type": "code",
      "source": [
        "#Mengubah tipe data agar sesuai\n",
        "df['Customer ID'] = df['Customer ID'].astype(int).astype(str)\n",
        "df['InvoiceDate'] = pd.to_datetime(df['InvoiceDate'])"
      ],
      "metadata": {
        "colab": {
          "base_uri": "https://localhost:8080/"
        },
        "id": "RAH8rQCWMlVc",
        "outputId": "da74f822-9c45-4345-8b6e-fa65c3ef3753"
      },
      "execution_count": 14,
      "outputs": [
        {
          "output_type": "stream",
          "name": "stderr",
          "text": [
            "/tmp/ipython-input-4125127306.py:2: SettingWithCopyWarning: \n",
            "A value is trying to be set on a copy of a slice from a DataFrame.\n",
            "Try using .loc[row_indexer,col_indexer] = value instead\n",
            "\n",
            "See the caveats in the documentation: https://pandas.pydata.org/pandas-docs/stable/user_guide/indexing.html#returning-a-view-versus-a-copy\n",
            "  df['Customer ID'] = df['Customer ID'].astype(int).astype(str)\n",
            "/tmp/ipython-input-4125127306.py:3: SettingWithCopyWarning: \n",
            "A value is trying to be set on a copy of a slice from a DataFrame.\n",
            "Try using .loc[row_indexer,col_indexer] = value instead\n",
            "\n",
            "See the caveats in the documentation: https://pandas.pydata.org/pandas-docs/stable/user_guide/indexing.html#returning-a-view-versus-a-copy\n",
            "  df['InvoiceDate'] = pd.to_datetime(df['InvoiceDate'])\n"
          ]
        }
      ]
    },
    {
      "cell_type": "code",
      "source": [
        "df.info()\n",
        "print(f\"\\nRentang waktu data: dari {df['InvoiceDate'].min()} sampai {df['InvoiceDate'].max()}\")"
      ],
      "metadata": {
        "colab": {
          "base_uri": "https://localhost:8080/"
        },
        "id": "d7FF59pBMpo_",
        "outputId": "8e5436b9-6dff-4c8e-dcab-9c0cf10d8fa4"
      },
      "execution_count": 16,
      "outputs": [
        {
          "output_type": "stream",
          "name": "stdout",
          "text": [
            "<class 'pandas.core.frame.DataFrame'>\n",
            "Index: 805549 entries, 0 to 1067370\n",
            "Data columns (total 8 columns):\n",
            " #   Column       Non-Null Count   Dtype         \n",
            "---  ------       --------------   -----         \n",
            " 0   Invoice      805549 non-null  object        \n",
            " 1   StockCode    805549 non-null  object        \n",
            " 2   Description  805549 non-null  object        \n",
            " 3   Quantity     805549 non-null  int64         \n",
            " 4   InvoiceDate  805549 non-null  datetime64[ns]\n",
            " 5   Price        805549 non-null  float64       \n",
            " 6   Customer ID  805549 non-null  object        \n",
            " 7   Country      805549 non-null  object        \n",
            "dtypes: datetime64[ns](1), float64(1), int64(1), object(5)\n",
            "memory usage: 55.3+ MB\n",
            "\n",
            "Rentang waktu data: dari 2009-12-01 07:45:00 sampai 2011-12-09 12:50:00\n"
          ]
        }
      ]
    },
    {
      "cell_type": "markdown",
      "source": [
        "# Feature Engineering"
      ],
      "metadata": {
        "id": "F3WRPENtM_W8"
      }
    },
    {
      "cell_type": "code",
      "source": [
        "#Membuat kolom TotalPrice\n",
        "df['TotalPrice'] = df['Quantity'] * df['Price']"
      ],
      "metadata": {
        "colab": {
          "base_uri": "https://localhost:8080/"
        },
        "id": "hEhxByiONDV2",
        "outputId": "a9e74820-4187-470f-b3f1-3ead2069244c"
      },
      "execution_count": 17,
      "outputs": [
        {
          "output_type": "stream",
          "name": "stderr",
          "text": [
            "/tmp/ipython-input-978159303.py:2: SettingWithCopyWarning: \n",
            "A value is trying to be set on a copy of a slice from a DataFrame.\n",
            "Try using .loc[row_indexer,col_indexer] = value instead\n",
            "\n",
            "See the caveats in the documentation: https://pandas.pydata.org/pandas-docs/stable/user_guide/indexing.html#returning-a-view-versus-a-copy\n",
            "  df['TotalPrice'] = df['Quantity'] * df['Price']\n"
          ]
        }
      ]
    },
    {
      "cell_type": "code",
      "source": [
        "df.head()"
      ],
      "metadata": {
        "colab": {
          "base_uri": "https://localhost:8080/",
          "height": 206
        },
        "id": "zLSg7qAuNNk3",
        "outputId": "5af974c9-d2e7-4cdf-d89b-2d159d415e2e"
      },
      "execution_count": 18,
      "outputs": [
        {
          "output_type": "execute_result",
          "data": {
            "text/plain": [
              "  Invoice StockCode                          Description  Quantity  \\\n",
              "0  489434     85048  15CM CHRISTMAS GLASS BALL 20 LIGHTS        12   \n",
              "1  489434    79323P                   PINK CHERRY LIGHTS        12   \n",
              "2  489434    79323W                  WHITE CHERRY LIGHTS        12   \n",
              "3  489434     22041         RECORD FRAME 7\" SINGLE SIZE         48   \n",
              "4  489434     21232       STRAWBERRY CERAMIC TRINKET BOX        24   \n",
              "\n",
              "          InvoiceDate  Price Customer ID         Country  TotalPrice  \n",
              "0 2009-12-01 07:45:00   6.95       13085  United Kingdom        83.4  \n",
              "1 2009-12-01 07:45:00   6.75       13085  United Kingdom        81.0  \n",
              "2 2009-12-01 07:45:00   6.75       13085  United Kingdom        81.0  \n",
              "3 2009-12-01 07:45:00   2.10       13085  United Kingdom       100.8  \n",
              "4 2009-12-01 07:45:00   1.25       13085  United Kingdom        30.0  "
            ],
            "text/html": [
              "\n",
              "  <div id=\"df-2a8fa87d-3bc7-4a57-88df-c7292bfc7903\" class=\"colab-df-container\">\n",
              "    <div>\n",
              "<style scoped>\n",
              "    .dataframe tbody tr th:only-of-type {\n",
              "        vertical-align: middle;\n",
              "    }\n",
              "\n",
              "    .dataframe tbody tr th {\n",
              "        vertical-align: top;\n",
              "    }\n",
              "\n",
              "    .dataframe thead th {\n",
              "        text-align: right;\n",
              "    }\n",
              "</style>\n",
              "<table border=\"1\" class=\"dataframe\">\n",
              "  <thead>\n",
              "    <tr style=\"text-align: right;\">\n",
              "      <th></th>\n",
              "      <th>Invoice</th>\n",
              "      <th>StockCode</th>\n",
              "      <th>Description</th>\n",
              "      <th>Quantity</th>\n",
              "      <th>InvoiceDate</th>\n",
              "      <th>Price</th>\n",
              "      <th>Customer ID</th>\n",
              "      <th>Country</th>\n",
              "      <th>TotalPrice</th>\n",
              "    </tr>\n",
              "  </thead>\n",
              "  <tbody>\n",
              "    <tr>\n",
              "      <th>0</th>\n",
              "      <td>489434</td>\n",
              "      <td>85048</td>\n",
              "      <td>15CM CHRISTMAS GLASS BALL 20 LIGHTS</td>\n",
              "      <td>12</td>\n",
              "      <td>2009-12-01 07:45:00</td>\n",
              "      <td>6.95</td>\n",
              "      <td>13085</td>\n",
              "      <td>United Kingdom</td>\n",
              "      <td>83.4</td>\n",
              "    </tr>\n",
              "    <tr>\n",
              "      <th>1</th>\n",
              "      <td>489434</td>\n",
              "      <td>79323P</td>\n",
              "      <td>PINK CHERRY LIGHTS</td>\n",
              "      <td>12</td>\n",
              "      <td>2009-12-01 07:45:00</td>\n",
              "      <td>6.75</td>\n",
              "      <td>13085</td>\n",
              "      <td>United Kingdom</td>\n",
              "      <td>81.0</td>\n",
              "    </tr>\n",
              "    <tr>\n",
              "      <th>2</th>\n",
              "      <td>489434</td>\n",
              "      <td>79323W</td>\n",
              "      <td>WHITE CHERRY LIGHTS</td>\n",
              "      <td>12</td>\n",
              "      <td>2009-12-01 07:45:00</td>\n",
              "      <td>6.75</td>\n",
              "      <td>13085</td>\n",
              "      <td>United Kingdom</td>\n",
              "      <td>81.0</td>\n",
              "    </tr>\n",
              "    <tr>\n",
              "      <th>3</th>\n",
              "      <td>489434</td>\n",
              "      <td>22041</td>\n",
              "      <td>RECORD FRAME 7\" SINGLE SIZE</td>\n",
              "      <td>48</td>\n",
              "      <td>2009-12-01 07:45:00</td>\n",
              "      <td>2.10</td>\n",
              "      <td>13085</td>\n",
              "      <td>United Kingdom</td>\n",
              "      <td>100.8</td>\n",
              "    </tr>\n",
              "    <tr>\n",
              "      <th>4</th>\n",
              "      <td>489434</td>\n",
              "      <td>21232</td>\n",
              "      <td>STRAWBERRY CERAMIC TRINKET BOX</td>\n",
              "      <td>24</td>\n",
              "      <td>2009-12-01 07:45:00</td>\n",
              "      <td>1.25</td>\n",
              "      <td>13085</td>\n",
              "      <td>United Kingdom</td>\n",
              "      <td>30.0</td>\n",
              "    </tr>\n",
              "  </tbody>\n",
              "</table>\n",
              "</div>\n",
              "    <div class=\"colab-df-buttons\">\n",
              "\n",
              "  <div class=\"colab-df-container\">\n",
              "    <button class=\"colab-df-convert\" onclick=\"convertToInteractive('df-2a8fa87d-3bc7-4a57-88df-c7292bfc7903')\"\n",
              "            title=\"Convert this dataframe to an interactive table.\"\n",
              "            style=\"display:none;\">\n",
              "\n",
              "  <svg xmlns=\"http://www.w3.org/2000/svg\" height=\"24px\" viewBox=\"0 -960 960 960\">\n",
              "    <path d=\"M120-120v-720h720v720H120Zm60-500h600v-160H180v160Zm220 220h160v-160H400v160Zm0 220h160v-160H400v160ZM180-400h160v-160H180v160Zm440 0h160v-160H620v160ZM180-180h160v-160H180v160Zm440 0h160v-160H620v160Z\"/>\n",
              "  </svg>\n",
              "    </button>\n",
              "\n",
              "  <style>\n",
              "    .colab-df-container {\n",
              "      display:flex;\n",
              "      gap: 12px;\n",
              "    }\n",
              "\n",
              "    .colab-df-convert {\n",
              "      background-color: #E8F0FE;\n",
              "      border: none;\n",
              "      border-radius: 50%;\n",
              "      cursor: pointer;\n",
              "      display: none;\n",
              "      fill: #1967D2;\n",
              "      height: 32px;\n",
              "      padding: 0 0 0 0;\n",
              "      width: 32px;\n",
              "    }\n",
              "\n",
              "    .colab-df-convert:hover {\n",
              "      background-color: #E2EBFA;\n",
              "      box-shadow: 0px 1px 2px rgba(60, 64, 67, 0.3), 0px 1px 3px 1px rgba(60, 64, 67, 0.15);\n",
              "      fill: #174EA6;\n",
              "    }\n",
              "\n",
              "    .colab-df-buttons div {\n",
              "      margin-bottom: 4px;\n",
              "    }\n",
              "\n",
              "    [theme=dark] .colab-df-convert {\n",
              "      background-color: #3B4455;\n",
              "      fill: #D2E3FC;\n",
              "    }\n",
              "\n",
              "    [theme=dark] .colab-df-convert:hover {\n",
              "      background-color: #434B5C;\n",
              "      box-shadow: 0px 1px 3px 1px rgba(0, 0, 0, 0.15);\n",
              "      filter: drop-shadow(0px 1px 2px rgba(0, 0, 0, 0.3));\n",
              "      fill: #FFFFFF;\n",
              "    }\n",
              "  </style>\n",
              "\n",
              "    <script>\n",
              "      const buttonEl =\n",
              "        document.querySelector('#df-2a8fa87d-3bc7-4a57-88df-c7292bfc7903 button.colab-df-convert');\n",
              "      buttonEl.style.display =\n",
              "        google.colab.kernel.accessAllowed ? 'block' : 'none';\n",
              "\n",
              "      async function convertToInteractive(key) {\n",
              "        const element = document.querySelector('#df-2a8fa87d-3bc7-4a57-88df-c7292bfc7903');\n",
              "        const dataTable =\n",
              "          await google.colab.kernel.invokeFunction('convertToInteractive',\n",
              "                                                    [key], {});\n",
              "        if (!dataTable) return;\n",
              "\n",
              "        const docLinkHtml = 'Like what you see? Visit the ' +\n",
              "          '<a target=\"_blank\" href=https://colab.research.google.com/notebooks/data_table.ipynb>data table notebook</a>'\n",
              "          + ' to learn more about interactive tables.';\n",
              "        element.innerHTML = '';\n",
              "        dataTable['output_type'] = 'display_data';\n",
              "        await google.colab.output.renderOutput(dataTable, element);\n",
              "        const docLink = document.createElement('div');\n",
              "        docLink.innerHTML = docLinkHtml;\n",
              "        element.appendChild(docLink);\n",
              "      }\n",
              "    </script>\n",
              "  </div>\n",
              "\n",
              "\n",
              "    <div id=\"df-c1086d62-b00c-405c-9640-cdfec927c2c4\">\n",
              "      <button class=\"colab-df-quickchart\" onclick=\"quickchart('df-c1086d62-b00c-405c-9640-cdfec927c2c4')\"\n",
              "                title=\"Suggest charts\"\n",
              "                style=\"display:none;\">\n",
              "\n",
              "<svg xmlns=\"http://www.w3.org/2000/svg\" height=\"24px\"viewBox=\"0 0 24 24\"\n",
              "     width=\"24px\">\n",
              "    <g>\n",
              "        <path d=\"M19 3H5c-1.1 0-2 .9-2 2v14c0 1.1.9 2 2 2h14c1.1 0 2-.9 2-2V5c0-1.1-.9-2-2-2zM9 17H7v-7h2v7zm4 0h-2V7h2v10zm4 0h-2v-4h2v4z\"/>\n",
              "    </g>\n",
              "</svg>\n",
              "      </button>\n",
              "\n",
              "<style>\n",
              "  .colab-df-quickchart {\n",
              "      --bg-color: #E8F0FE;\n",
              "      --fill-color: #1967D2;\n",
              "      --hover-bg-color: #E2EBFA;\n",
              "      --hover-fill-color: #174EA6;\n",
              "      --disabled-fill-color: #AAA;\n",
              "      --disabled-bg-color: #DDD;\n",
              "  }\n",
              "\n",
              "  [theme=dark] .colab-df-quickchart {\n",
              "      --bg-color: #3B4455;\n",
              "      --fill-color: #D2E3FC;\n",
              "      --hover-bg-color: #434B5C;\n",
              "      --hover-fill-color: #FFFFFF;\n",
              "      --disabled-bg-color: #3B4455;\n",
              "      --disabled-fill-color: #666;\n",
              "  }\n",
              "\n",
              "  .colab-df-quickchart {\n",
              "    background-color: var(--bg-color);\n",
              "    border: none;\n",
              "    border-radius: 50%;\n",
              "    cursor: pointer;\n",
              "    display: none;\n",
              "    fill: var(--fill-color);\n",
              "    height: 32px;\n",
              "    padding: 0;\n",
              "    width: 32px;\n",
              "  }\n",
              "\n",
              "  .colab-df-quickchart:hover {\n",
              "    background-color: var(--hover-bg-color);\n",
              "    box-shadow: 0 1px 2px rgba(60, 64, 67, 0.3), 0 1px 3px 1px rgba(60, 64, 67, 0.15);\n",
              "    fill: var(--button-hover-fill-color);\n",
              "  }\n",
              "\n",
              "  .colab-df-quickchart-complete:disabled,\n",
              "  .colab-df-quickchart-complete:disabled:hover {\n",
              "    background-color: var(--disabled-bg-color);\n",
              "    fill: var(--disabled-fill-color);\n",
              "    box-shadow: none;\n",
              "  }\n",
              "\n",
              "  .colab-df-spinner {\n",
              "    border: 2px solid var(--fill-color);\n",
              "    border-color: transparent;\n",
              "    border-bottom-color: var(--fill-color);\n",
              "    animation:\n",
              "      spin 1s steps(1) infinite;\n",
              "  }\n",
              "\n",
              "  @keyframes spin {\n",
              "    0% {\n",
              "      border-color: transparent;\n",
              "      border-bottom-color: var(--fill-color);\n",
              "      border-left-color: var(--fill-color);\n",
              "    }\n",
              "    20% {\n",
              "      border-color: transparent;\n",
              "      border-left-color: var(--fill-color);\n",
              "      border-top-color: var(--fill-color);\n",
              "    }\n",
              "    30% {\n",
              "      border-color: transparent;\n",
              "      border-left-color: var(--fill-color);\n",
              "      border-top-color: var(--fill-color);\n",
              "      border-right-color: var(--fill-color);\n",
              "    }\n",
              "    40% {\n",
              "      border-color: transparent;\n",
              "      border-right-color: var(--fill-color);\n",
              "      border-top-color: var(--fill-color);\n",
              "    }\n",
              "    60% {\n",
              "      border-color: transparent;\n",
              "      border-right-color: var(--fill-color);\n",
              "    }\n",
              "    80% {\n",
              "      border-color: transparent;\n",
              "      border-right-color: var(--fill-color);\n",
              "      border-bottom-color: var(--fill-color);\n",
              "    }\n",
              "    90% {\n",
              "      border-color: transparent;\n",
              "      border-bottom-color: var(--fill-color);\n",
              "    }\n",
              "  }\n",
              "</style>\n",
              "\n",
              "      <script>\n",
              "        async function quickchart(key) {\n",
              "          const quickchartButtonEl =\n",
              "            document.querySelector('#' + key + ' button');\n",
              "          quickchartButtonEl.disabled = true;  // To prevent multiple clicks.\n",
              "          quickchartButtonEl.classList.add('colab-df-spinner');\n",
              "          try {\n",
              "            const charts = await google.colab.kernel.invokeFunction(\n",
              "                'suggestCharts', [key], {});\n",
              "          } catch (error) {\n",
              "            console.error('Error during call to suggestCharts:', error);\n",
              "          }\n",
              "          quickchartButtonEl.classList.remove('colab-df-spinner');\n",
              "          quickchartButtonEl.classList.add('colab-df-quickchart-complete');\n",
              "        }\n",
              "        (() => {\n",
              "          let quickchartButtonEl =\n",
              "            document.querySelector('#df-c1086d62-b00c-405c-9640-cdfec927c2c4 button');\n",
              "          quickchartButtonEl.style.display =\n",
              "            google.colab.kernel.accessAllowed ? 'block' : 'none';\n",
              "        })();\n",
              "      </script>\n",
              "    </div>\n",
              "\n",
              "    </div>\n",
              "  </div>\n"
            ],
            "application/vnd.google.colaboratory.intrinsic+json": {
              "type": "dataframe",
              "variable_name": "df"
            }
          },
          "metadata": {},
          "execution_count": 18
        }
      ]
    },
    {
      "cell_type": "code",
      "source": [
        "# Menghitung RFM\n",
        "# Tentukan tanggal terakhir dalam dataset sebagai acuan untuk menghitung Recency\n",
        "snapshot_date = df['InvoiceDate'].max() + dt.timedelta(days=1)\n",
        "\n",
        "# Kelompokkan data per pelanggan\n",
        "rfm_df = df.groupby('Customer ID').agg({\n",
        "    'InvoiceDate': lambda date: (snapshot_date - date.max()).days, # Recency\n",
        "    'Invoice': 'nunique', # Frequency (jumlah invoice unik)\n",
        "    'TotalPrice': 'sum' # Monetary\n",
        "})\n",
        "\n",
        "# Ubah nama kolom agar lebih jelas\n",
        "rfm_df.rename(columns={'InvoiceDate': 'Recency',\n",
        "                       'Invoice': 'Frequency',\n",
        "                       'TotalPrice': 'Monetary'}, inplace=True)\n",
        "\n",
        "print(\"\\nContoh Data RFM yang Dihasilkan:\")\n",
        "print(rfm_df.head())"
      ],
      "metadata": {
        "colab": {
          "base_uri": "https://localhost:8080/"
        },
        "id": "m5OfqS01NOk2",
        "outputId": "68a8afa6-eebd-46bb-cd02-ef87961c6087"
      },
      "execution_count": 20,
      "outputs": [
        {
          "output_type": "stream",
          "name": "stdout",
          "text": [
            "\n",
            "Contoh Data RFM yang Dihasilkan:\n",
            "             Recency  Frequency  Monetary\n",
            "Customer ID                              \n",
            "12346            326         12  77556.46\n",
            "12347              2          8   5633.32\n",
            "12348             75          5   2019.40\n",
            "12349             19          4   4428.69\n",
            "12350            310          1    334.40\n"
          ]
        }
      ]
    },
    {
      "cell_type": "code",
      "source": [
        "# --- PENAMBAHAN FITUR BARU ---\n",
        "# 1. Menghitung rata-rata nilai per transaksi (Average Basket Value)\n",
        "# 2. Menghitung jumlah produk unik yang dibeli\n",
        "customer_features = df.groupby('Customer ID').agg({\n",
        "    'TotalPrice': 'mean', # Rata-rata nilai produk per baris, proxy untuk avg basket value\n",
        "    'StockCode': 'nunique' # Jumlah produk unik\n",
        "}).rename(columns={'TotalPrice': 'AvgBasketValue', 'StockCode': 'TotalUniqueProducts'})\n",
        "\n",
        "# Gabungkan fitur baru ini ke dalam dataframe rfm\n",
        "rfm_df = rfm_df.join(customer_features)\n",
        "\n",
        "print(\"\\nContoh Data dengan Fitur Tambahan:\")\n",
        "print(rfm_df.head())"
      ],
      "metadata": {
        "colab": {
          "base_uri": "https://localhost:8080/"
        },
        "id": "uE703MRLOR5T",
        "outputId": "c395ed54-e8f4-4b49-81ff-8f23f5413606"
      },
      "execution_count": 23,
      "outputs": [
        {
          "output_type": "stream",
          "name": "stdout",
          "text": [
            "\n",
            "Contoh Data dengan Fitur Tambahan:\n",
            "             Recency  Frequency  Monetary  AvgBasketValue  TotalUniqueProducts\n",
            "Customer ID                                                                   \n",
            "12346            326         12  77556.46     2281.072353                   27\n",
            "12347              2          8   5633.32       22.266087                  126\n",
            "12348             75          5   2019.40       39.596078                   25\n",
            "12349             19          4   4428.69       25.306800                  138\n",
            "12350            310          1    334.40       19.670588                   17\n"
          ]
        }
      ]
    },
    {
      "cell_type": "code",
      "source": [
        "# --- PENAMBAHAN FITUR INTERAKSI ---\n",
        "# Hindari pembagian dengan nol dengan menambahkan 1 pada Recency\n",
        "rfm_df['Frequency_per_Recency'] = rfm_df['Frequency'] / (rfm_df['Recency'] + 1)\n",
        "rfm_df['Recency_x_Frequency'] = rfm_df['Recency'] * rfm_df['Frequency']\n",
        "\n",
        "# Tampilkan data dengan semua fitur final\n",
        "print(\"\\nContoh Data dengan Fitur Interaksi:\")\n",
        "print(rfm_df.head())"
      ],
      "metadata": {
        "colab": {
          "base_uri": "https://localhost:8080/"
        },
        "id": "hH5ycMRgP2Oe",
        "outputId": "83c797bc-ca96-4e69-89e9-ef2bad5ebf4b"
      },
      "execution_count": 27,
      "outputs": [
        {
          "output_type": "stream",
          "name": "stdout",
          "text": [
            "\n",
            "Contoh Data dengan Fitur Interaksi:\n",
            "             Recency  Frequency  Monetary  AvgBasketValue  \\\n",
            "Customer ID                                                 \n",
            "12346            326         12  77556.46     2281.072353   \n",
            "12347              2          8   5633.32       22.266087   \n",
            "12348             75          5   2019.40       39.596078   \n",
            "12349             19          4   4428.69       25.306800   \n",
            "12350            310          1    334.40       19.670588   \n",
            "\n",
            "             TotalUniqueProducts  Frequency_per_Recency  Recency_x_Frequency  \n",
            "Customer ID                                                                   \n",
            "12346                         27               0.036697                 3912  \n",
            "12347                        126               2.666667                   16  \n",
            "12348                         25               0.065789                  375  \n",
            "12349                        138               0.200000                   76  \n",
            "12350                         17               0.003215                  310  \n"
          ]
        }
      ]
    },
    {
      "cell_type": "markdown",
      "source": [
        "# Modeling & Tuning"
      ],
      "metadata": {
        "id": "hkCSTrkhNhT6"
      }
    },
    {
      "cell_type": "code",
      "source": [
        "# --- TAHAP 3 (FINAL) ---\n",
        "\n",
        "# Mendefinisikan fitur (X) dengan SEMUA kolom yang relevan\n",
        "X = rfm_df[['Recency', 'Frequency', 'AvgBasketValue', 'TotalUniqueProducts',\n",
        "             'Frequency_per_Recency', 'Recency_x_Frequency']]\n",
        "y = rfm_df['Monetary']\n",
        "\n",
        "# Transformasi Logaritmik pada Target (tetap sama)\n",
        "y_log = np.log1p(y)\n",
        "\n",
        "# Membagi data menjadi data latih dan data uji\n",
        "X_train, X_test, y_log_train, y_log_test = train_test_split(X, y_log, test_size=0.3, random_state=42)\n",
        "\n",
        "print(f\"\\nDistribusi target 'Monetary' sebelum transformasi:\\n{y.describe()}\")\n",
        "print(f\"\\nDistribusi target setelah transformasi log:\\n{y_log.describe()}\")"
      ],
      "metadata": {
        "colab": {
          "base_uri": "https://localhost:8080/"
        },
        "id": "egBnPDvcNmIC",
        "outputId": "56a2ed6e-e7ff-49c2-fd69-ebd4485ea700"
      },
      "execution_count": 28,
      "outputs": [
        {
          "output_type": "stream",
          "name": "stdout",
          "text": [
            "\n",
            "Distribusi target 'Monetary' sebelum transformasi:\n",
            "count      5878.000000\n",
            "mean       3018.616737\n",
            "std       14737.731040\n",
            "min           2.950000\n",
            "25%         348.762500\n",
            "50%         898.915000\n",
            "75%        2307.090000\n",
            "max      608821.650000\n",
            "Name: Monetary, dtype: float64\n",
            "\n",
            "Distribusi target setelah transformasi log:\n",
            "count    5878.000000\n",
            "mean        6.836550\n",
            "std         1.387864\n",
            "min         1.373716\n",
            "25%         5.857254\n",
            "50%         6.802300\n",
            "75%         7.744175\n",
            "max        13.319282\n",
            "Name: Monetary, dtype: float64\n"
          ]
        }
      ]
    },
    {
      "cell_type": "code",
      "source": [
        "# --- TAHAP 4 (BARU) ---\n",
        "from sklearn.model_selection import GridSearchCV\n",
        "\n",
        "# Tentukan parameter grid yang ingin dicoba\n",
        "# Grid ini kecil untuk kecepatan, Anda bisa memperluasnya\n",
        "param_grid = {\n",
        "    'n_estimators': [100, 200],\n",
        "    'max_depth': [10, 20, None],\n",
        "    'min_samples_leaf': [1, 2, 4]\n",
        "}\n",
        "\n",
        "# Inisialisasi model\n",
        "rf_model = RandomForestRegressor(random_state=42)\n",
        "\n",
        "# Inisialisasi GridSearchCV\n",
        "# cv=3 artinya menggunakan 3-fold cross-validation\n",
        "# n_jobs=-1 artinya menggunakan semua core CPU untuk mempercepat proses\n",
        "grid_search = GridSearchCV(estimator=rf_model, param_grid=param_grid,\n",
        "                           cv=3, n_jobs=-1, verbose=2, scoring='r2')\n",
        "\n",
        "# Latih grid search pada data logaritmik\n",
        "print(\"\\nMemulai Tuning Hyperparameter dengan GridSearchCV...\")\n",
        "grid_search.fit(X_train, y_log_train)\n",
        "\n",
        "print(f\"\\nParameter terbaik yang ditemukan: {grid_search.best_params_}\")"
      ],
      "metadata": {
        "colab": {
          "base_uri": "https://localhost:8080/"
        },
        "id": "8sckTgXcOdv2",
        "outputId": "0d0be65c-37ce-47b7-a015-a2f671e17637"
      },
      "execution_count": 29,
      "outputs": [
        {
          "output_type": "stream",
          "name": "stdout",
          "text": [
            "\n",
            "Memulai Tuning Hyperparameter dengan GridSearchCV...\n",
            "Fitting 3 folds for each of 18 candidates, totalling 54 fits\n",
            "\n",
            "Parameter terbaik yang ditemukan: {'max_depth': 20, 'min_samples_leaf': 1, 'n_estimators': 200}\n"
          ]
        }
      ]
    },
    {
      "cell_type": "code",
      "source": [
        "# --- TAHAP 4 (FINAL) ---\n",
        "import lightgbm as lgb\n",
        "\n",
        "# Inisialisasi model LightGBM Regressor\n",
        "# Kita gunakan parameter default terlebih dahulu\n",
        "lgbm_model = lgb.LGBMRegressor(random_state=42)\n",
        "\n",
        "# Melatih model menggunakan data latih logaritmik\n",
        "print(\"\\nMelatih model LightGBM...\")\n",
        "lgbm_model.fit(X_train, y_log_train)\n",
        "print(\"Model selesai dilatih.\")\n",
        "\n",
        "# Membuat prediksi pada data uji (hasilnya masih dalam skala log)\n",
        "y_log_pred = lgbm_model.predict(X_test)\n",
        "\n",
        "# Kembalikan prediksi dan data uji ke skala asli\n",
        "y_pred_orig = np.expm1(y_log_pred)\n",
        "y_test_orig = np.expm1(y_log_test)\n",
        "\n",
        "# Evaluasi performa model final\n",
        "mae_final = mean_absolute_error(y_test_orig, y_pred_orig)\n",
        "r2_final = r2_score(y_test_orig, y_pred_orig)\n",
        "\n",
        "print(\"\\n--- Hasil Evaluasi Model FINAL (LightGBM + Fitur Lanjutan) ---\")\n",
        "print(f\"Mean Absolute Error (MAE): ${mae_final:,.2f}\")\n",
        "print(f\"R-squared (R2 Score): {r2_final:.2%}\")\n",
        "\n",
        "# Visualisasi Feature Importance\n",
        "# Melihat fitur mana yang paling dianggap penting oleh model\n",
        "plt.figure(figsize=(10, 7))\n",
        "lgb.plot_importance(lgbm_model, max_num_features=10)\n",
        "plt.title(\"Feature Importance - LightGBM\")\n",
        "plt.show()"
      ],
      "metadata": {
        "colab": {
          "base_uri": "https://localhost:8080/",
          "height": 709
        },
        "id": "-2T8-ZhXNup4",
        "outputId": "fb2f0dbf-44b3-483b-8de5-063f12eec711"
      },
      "execution_count": 30,
      "outputs": [
        {
          "output_type": "stream",
          "name": "stdout",
          "text": [
            "\n",
            "Melatih model LightGBM...\n",
            "[LightGBM] [Info] Auto-choosing row-wise multi-threading, the overhead of testing was 0.000281 seconds.\n",
            "You can set `force_row_wise=true` to remove the overhead.\n",
            "And if memory is not enough, you can set `force_col_wise=true`.\n",
            "[LightGBM] [Info] Total Bins 1329\n",
            "[LightGBM] [Info] Number of data points in the train set: 4114, number of used features: 6\n",
            "[LightGBM] [Info] Start training from score 6.857696\n",
            "Model selesai dilatih.\n",
            "\n",
            "--- Hasil Evaluasi Model FINAL (LightGBM + Fitur Lanjutan) ---\n",
            "Mean Absolute Error (MAE): $1,166.94\n",
            "R-squared (R2 Score): 53.87%\n"
          ]
        },
        {
          "output_type": "display_data",
          "data": {
            "text/plain": [
              "<Figure size 1000x700 with 0 Axes>"
            ]
          },
          "metadata": {}
        },
        {
          "output_type": "display_data",
          "data": {
            "text/plain": [
              "<Figure size 640x480 with 1 Axes>"
            ],
            "image/png": "[encoded data removed]"
          },
          "metadata": {}
        }
      ]
    }
  ]
}